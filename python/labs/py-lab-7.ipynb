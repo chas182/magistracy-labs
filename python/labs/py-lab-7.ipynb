

def get_pifagor_triples(n):
    return [(x, y, z) for z in xrange(1, n) for y in range(1, z) for x in range(1, y) if x ** 2 + y ** 2 == z ** 2]


print get_pifagor_triples(15)
