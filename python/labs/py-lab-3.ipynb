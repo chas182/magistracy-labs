import sys


def check_kollaz(n):
    if n == 1:
        sys.stdout.write(str(n) + "\n")
        return True
    else:
        sys.stdout.write(str(n) + " -> ")
        if n % 2 == 0:
            return check_kollaz(n / 2)
        else:
            return check_kollaz(3 * n + 1)


print "Enter variable for check:"
b = int(sys.stdin.readline())

print "Result: {}".format(check_kollaz(b))
